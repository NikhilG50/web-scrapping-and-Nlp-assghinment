{
 "cells": [
  {
   "cell_type": "markdown",
   "metadata": {},
   "source": [
    "### Task 1. How can we transform a text to numerical representation?​ (Write any three of them with one line description)\n",
    ">1) Word embedding : \n",
    "    words or phrases from the vocabulary are mapped to vectors of real numbers. \n",
    "\n",
    ">2) Word2vec :\n",
    "    it uses neural network to detect synonymous words or to suggest additional words for a partial sentence.\n",
    "    it represents each distinct word with a particular list of numbers.\n",
    "\n",
    ">3) Tf-idf Vectorizer (Term Frequency – Inverse Document Frequency)\n",
    "The Term Frequency gives how many times the word appears in the document. and  The Inverse Document Frequency downscales words that appear a lot across the documents.\n",
    "\n",
    "#### Note: \n",
    " Other techiniques includes One-Hot-Encoding, Document Term Matrix, Binary features, POS / NER Tagging..etc"
   ]
  },
  {
   "cell_type": "markdown",
   "metadata": {},
   "source": [
    "### Task 2. List (min) three things to evaluate a Classification model.\n",
    "> Accuracy of the model.\n",
    "\n",
    "> Confusion matrix.\n",
    "\n",
    "> Precision, recall and Specificity.\n",
    "\n",
    "> F1 score.\n",
    "\n",
    "> ploting ROC and AUC curve."
   ]
  },
  {
   "cell_type": "markdown",
   "metadata": {},
   "source": [
    "### Task 3 : Scraping a News portal"
   ]
  },
  {
   "cell_type": "code",
   "execution_count": 2,
   "metadata": {},
   "outputs": [],
   "source": [
    "# importing Libraries\n",
    "import newspaper\n",
    "import pandas as pd\n",
    "import numpy as np\n",
    "import matplotlib.pyplot as plt\n",
    "\n",
    "import re\n",
    "import spacy\n",
    "from spacy import displacy\n",
    "from collections import Counter\n",
    "import en_core_web_sm\n",
    "from pprint import pprint\n",
    "from wordcloud import WordCloud\n",
    "\n",
    "from sklearn.feature_extraction.text import CountVectorizer\n",
    "from sklearn.decomposition import LatentDirichletAllocation as LDA\n",
    "\n",
    "import typing\n",
    "import warnings\n",
    "warnings.simplefilter(\"ignore\", DeprecationWarning)"
   ]
  },
  {
   "cell_type": "markdown",
   "metadata": {},
   "source": [
    "#### Crawler To extract News from the News portal"
   ]
  },
  {
   "cell_type": "code",
   "execution_count": 3,
   "metadata": {},
   "outputs": [
    {
     "name": "stdout",
     "output_type": "stream",
     "text": [
      "1 articles downloaded from washingtonpost  using newspaper, url:  https://www.washingtonpost.com/elections/2020/11/09/biden-trump-election-live-updates/\n",
      "2 articles downloaded from washingtonpost  using newspaper, url:  https://www.washingtonpost.com/elections/2020/11/09/biden-trump-election-live-updates/#link-Z5NRLLYYUBC6LPF7DADYRJ4EVE\n",
      "3 articles downloaded from washingtonpost  using newspaper, url:  https://www.washingtonpost.com/elections/2020/11/09/biden-trump-election-live-updates/#link-PLCONXFNYFET5ASWQ3CNXW4QOY\n",
      "4 articles downloaded from washingtonpost  using newspaper, url:  https://www.washingtonpost.com/elections/2020/11/09/biden-trump-election-live-updates/#link-SHJWESIAZVCBZB4KFJV7W66TZQ\n",
      "5 articles downloaded from washingtonpost  using newspaper, url:  https://www.washingtonpost.com/elections/2020/11/09/biden-trump-election-live-updates/#link-AOAGI3F7FFCJZIBDLANLK25424\n"
     ]
    }
   ],
   "source": [
    "def check_empty(string: str)-> str:\n",
    "    \"\"\" Method  string  empty or not if empty return NULL\n",
    "    \"\"\"    \n",
    "    return string if string else np.nan\n",
    "\n",
    "\n",
    "def web_crawler(name: str, \n",
    "                url:str,\n",
    "                no_of_pages: int =5\n",
    "               ) -> typing.List[typing.Dict]:\n",
    "    \n",
    "    \"\"\"Method scarpes the web pages from the specified url's\n",
    "        \n",
    "      input-parms \n",
    "      LIMIT: dtype--int\n",
    "          You can limit the number of articles to be scrpped.\n",
    "          \n",
    "      name: str\n",
    "      Name of the portal you wan't to scrap\n",
    "      url: str\n",
    "          url of the portal you wan't to scrap\n",
    "                \n",
    "      Returns : str \n",
    "          scarpped data  list return\n",
    "        \n",
    "        Note: each url's grabs diffrent info. you can take a look at the output of \n",
    "              this function to modify the colums and contents you want to grab\n",
    "    \"\"\"\n",
    "    companies = {name: {'link': url}}\n",
    "    articles_array = []\n",
    "\n",
    "    paper = newspaper.build(url, memoize_articles=False)\n",
    "    newsPaper = {\"link\": url,\"articles\": []}\n",
    "    count = 1\n",
    "    \n",
    "    for content in paper.articles:\n",
    "        if count > no_of_pages:\n",
    "            break\n",
    "        try:\n",
    "            content.download()\n",
    "            content.parse()\n",
    "        except Exception as e:\n",
    "            print(e)\n",
    "            print(\"continuing...\")\n",
    "            continue\n",
    "            \n",
    "        article = {}\n",
    "        \n",
    "        article['Title'] = check_empty(content.title)\n",
    "        article['Authors'] = check_empty(content.authors)\n",
    "        article['Content'] = check_empty(content.text)\n",
    "        article['Image'] = check_empty(content.top_image)\n",
    "        article['Link'] = check_empty(content.url)\n",
    "        article['Date_Posted'] = content.publish_date\n",
    "    \n",
    "        newsPaper['articles'].append(article)\n",
    "        articles_array.append(article)\n",
    "        print(count, \"articles downloaded from\", name, \" using newspaper, url: \", content.url)\n",
    "        count = count + 1\n",
    "    return articles_array\n",
    "\n",
    "# company_name = 'theguardian'; # url = 'https://www.theguardian.com/international'\n",
    "company_name = 'washingtonpost'; url = 'https://www.washingtonpost.com/'\n",
    "articles_array = web_crawler(no_of_pages= 5,name = company_name, url = url)"
   ]
  },
  {
   "cell_type": "markdown",
   "metadata": {},
   "source": [
    "#### Now we have scarpped data. let's create a Data frame and store that data frame in Csv fomate "
   ]
  },
  {
   "cell_type": "code",
   "execution_count": 4,
   "metadata": {},
   "outputs": [],
   "source": [
    "df = pd.DataFrame.from_dict(articles_array, orient='columns', dtype=None, columns=None)\n",
    "df.to_csv('news.csv')"
   ]
  },
  {
   "cell_type": "markdown",
   "metadata": {},
   "source": [
    "### Task 4 : Perform exploratory data analysis."
   ]
  },
  {
   "cell_type": "markdown",
   "metadata": {},
   "source": [
    "#### Retrieving the named entities."
   ]
  },
  {
   "cell_type": "code",
   "execution_count": 5,
   "metadata": {},
   "outputs": [],
   "source": [
    "# let's load Spicy English multi-task Cnn model.\n",
    "# This Assigns context-specific token vectors, POS tags, dependency parse and named entities .\n",
    "nlp = en_core_web_sm.load()"
   ]
  },
  {
   "cell_type": "code",
   "execution_count": 6,
   "metadata": {},
   "outputs": [],
   "source": [
    "def retrieve_named_entities(df: pd.DataFrame, \n",
    "                            column: str = 'Content') -> str:\n",
    "    \"\"\"\n",
    "    Retrieve the named entities of a perticular column\n",
    "    \n",
    "    parms:  -dataframe\n",
    "            -coumn name : to retrieve the named entities\n",
    "    \n",
    "    outputs: Retrieved named entities\n",
    "    \"\"\"\n",
    "    ne = []\n",
    "    for content in df[str(column)]:\n",
    "        doc = nlp(content)\n",
    "        ne.append([(X.text, X.label_) for X in doc.ents])\n",
    "            \n",
    "    return('Named entities of Contents are idntified are', ne);\n",
    "    \n",
    "###############################################################################################################\n",
    "    \n",
    "def Display_named_entities(df: pd.DataFrame, \n",
    "                           item: int = 0, \n",
    "                           no_of_sentence: int = 1, \n",
    "                           column: str = 'Content', \n",
    "                           dist: int = 80) -> None:\n",
    "    \"\"\"\n",
    "    To visilize The raw markup by generating \"displacy.render\" function\n",
    "    \n",
    "    Parms:  -df : dataframe\n",
    "            -column : which column you want to explore\n",
    "            -item : which row in that column you want to explore\n",
    "            -no_of_sentence : Specifies which data col you need to explore\n",
    "            -dist : width for displaying the tree in Notebook\n",
    "            \n",
    "    return : The named entities in raw and Tree formate.\n",
    "    \n",
    "    \"\"\"\n",
    "    doc = df[column][item]\n",
    "    doc = nlp(doc)\n",
    "    sentences = [x for x in doc.sents]\n",
    "    print('\\n1) Displays the named entities in raw Formate.')\n",
    "    \n",
    "    displacy.render(nlp(str(sentences[no_of_sentence])), jupyter=True, style='ent')\n",
    "    print('\\n2) Displays the named entities in Tree Formate.')\n",
    "    displacy.render(nlp(str(sentences[no_of_sentence])), style='dep', jupyter = True, options = {'distance': dist})"
   ]
  },
  {
   "cell_type": "code",
   "execution_count": 7,
   "metadata": {},
   "outputs": [
    {
     "data": {
      "text/plain": [
       "[('Joe Gloria', 'PERSON'),\n",
       " ('Nevada', 'GPE'),\n",
       " ('Clark County', 'GPE'),\n",
       " ('Democratic', 'NORP'),\n",
       " ('Biden', 'LOC'),\n",
       " ('more than 36,000', 'CARDINAL'),\n",
       " ('Trump', 'ORG'),\n",
       " ('Monday', 'DATE'),\n",
       " ('Trump', 'ORG'),\n",
       " ('Nevada', 'GPE'),\n",
       " ('GOP', 'ORG'),\n",
       " ('Gloria', 'PERSON'),\n",
       " ('Monday', 'DATE'),\n",
       " ('Trump', 'ORG'),\n",
       " ('Republicans', 'NORP'),\n",
       " ('Clark County', 'GPE'),\n",
       " ('Sunday', 'DATE'),\n",
       " ('Trump', 'ORG'),\n",
       " ('Matt Schlapp', 'PERSON'),\n",
       " ('the American Conservative Union', 'ORG'),\n",
       " ('thousands', 'CARDINAL'),\n",
       " ('Nevada', 'GPE'),\n",
       " ('Aaron D. Ford', 'PERSON'),\n",
       " ('Ford', 'PERSON'),\n",
       " ('Last week', 'DATE'),\n",
       " ('Trump', 'ORG'),\n",
       " ('the Justice Department', 'ORG'),\n",
       " ('more than 3,000', 'CARDINAL'),\n",
       " ('Nevada', 'GPE'),\n",
       " ('Sunday', 'DATE'),\n",
       " ('9,000', 'CARDINAL'),\n",
       " ('Clark County', 'GPE'),\n",
       " ('Clark County', 'GPE')]"
      ]
     },
     "execution_count": 7,
     "metadata": {},
     "output_type": "execute_result"
    }
   ],
   "source": [
    "df = pd.read_csv('news.csv',index_col=0)\n",
    "# let's print the named entities of frist text\n",
    "retrieve_named_entities(df, column = 'Content')[1][1]"
   ]
  },
  {
   "cell_type": "code",
   "execution_count": 8,
   "metadata": {
    "scrolled": true
   },
   "outputs": [
    {
     "name": "stdout",
     "output_type": "stream",
     "text": [
      "\n",
      "1) Displays the named entities in raw Formate.\n"
     ]
    },
    {
     "data": {
      "text/html": [
       "<span class=\"tex2jax_ignore\"><div class=\"entities\" style=\"line-height: 2.5; direction: ltr\">“We’ve had answers for every allegation that has been brought forward,” \n",
       "<mark class=\"entity\" style=\"background: #aa9cfc; padding: 0.45em 0.6em; margin: 0 0.25em; line-height: 1; border-radius: 0.35em;\">\n",
       "    Gloria\n",
       "    <span style=\"font-size: 0.8em; font-weight: bold; line-height: 1; border-radius: 0.35em; text-transform: uppercase; vertical-align: middle; margin-left: 0.5rem\">PERSON</span>\n",
       "</mark>\n",
       " said at a news conference \n",
       "<mark class=\"entity\" style=\"background: #bfe1d9; padding: 0.45em 0.6em; margin: 0 0.25em; line-height: 1; border-radius: 0.35em;\">\n",
       "    Monday\n",
       "    <span style=\"font-size: 0.8em; font-weight: bold; line-height: 1; border-radius: 0.35em; text-transform: uppercase; vertical-align: middle; margin-left: 0.5rem\">DATE</span>\n",
       "</mark>\n",
       ".</div></span>"
      ],
      "text/plain": [
       "<IPython.core.display.HTML object>"
      ]
     },
     "metadata": {},
     "output_type": "display_data"
    },
    {
     "name": "stdout",
     "output_type": "stream",
     "text": [
      "\n",
      "2) Displays the named entities in Tree Formate.\n"
     ]
    },
    {
     "data": {
      "text/html": [
       "<span class=\"tex2jax_ignore\"><svg xmlns=\"http://www.w3.org/2000/svg\" xmlns:xlink=\"http://www.w3.org/1999/xlink\" xml:lang=\"en\" id=\"75306110b1a24490b15a800afbbd254f-0\" class=\"displacy\" width=\"1650\" height=\"417.0\" direction=\"ltr\" style=\"max-width: none; height: 417.0px; color: #000000; background: #ffffff; font-family: Arial; direction: ltr\">\n",
       "<text class=\"displacy-token\" fill=\"currentColor\" text-anchor=\"middle\" y=\"327.0\">\n",
       "    <tspan class=\"displacy-word\" fill=\"currentColor\" x=\"50\">“</tspan>\n",
       "    <tspan class=\"displacy-tag\" dy=\"2em\" fill=\"currentColor\" x=\"50\">PUNCT</tspan>\n",
       "</text>\n",
       "\n",
       "<text class=\"displacy-token\" fill=\"currentColor\" text-anchor=\"middle\" y=\"327.0\">\n",
       "    <tspan class=\"displacy-word\" fill=\"currentColor\" x=\"130\">We</tspan>\n",
       "    <tspan class=\"displacy-tag\" dy=\"2em\" fill=\"currentColor\" x=\"130\">PRON</tspan>\n",
       "</text>\n",
       "\n",
       "<text class=\"displacy-token\" fill=\"currentColor\" text-anchor=\"middle\" y=\"327.0\">\n",
       "    <tspan class=\"displacy-word\" fill=\"currentColor\" x=\"210\">’ve</tspan>\n",
       "    <tspan class=\"displacy-tag\" dy=\"2em\" fill=\"currentColor\" x=\"210\">VERB</tspan>\n",
       "</text>\n",
       "\n",
       "<text class=\"displacy-token\" fill=\"currentColor\" text-anchor=\"middle\" y=\"327.0\">\n",
       "    <tspan class=\"displacy-word\" fill=\"currentColor\" x=\"290\">had</tspan>\n",
       "    <tspan class=\"displacy-tag\" dy=\"2em\" fill=\"currentColor\" x=\"290\">AUX</tspan>\n",
       "</text>\n",
       "\n",
       "<text class=\"displacy-token\" fill=\"currentColor\" text-anchor=\"middle\" y=\"327.0\">\n",
       "    <tspan class=\"displacy-word\" fill=\"currentColor\" x=\"370\">answers</tspan>\n",
       "    <tspan class=\"displacy-tag\" dy=\"2em\" fill=\"currentColor\" x=\"370\">NOUN</tspan>\n",
       "</text>\n",
       "\n",
       "<text class=\"displacy-token\" fill=\"currentColor\" text-anchor=\"middle\" y=\"327.0\">\n",
       "    <tspan class=\"displacy-word\" fill=\"currentColor\" x=\"450\">for</tspan>\n",
       "    <tspan class=\"displacy-tag\" dy=\"2em\" fill=\"currentColor\" x=\"450\">ADP</tspan>\n",
       "</text>\n",
       "\n",
       "<text class=\"displacy-token\" fill=\"currentColor\" text-anchor=\"middle\" y=\"327.0\">\n",
       "    <tspan class=\"displacy-word\" fill=\"currentColor\" x=\"530\">every</tspan>\n",
       "    <tspan class=\"displacy-tag\" dy=\"2em\" fill=\"currentColor\" x=\"530\">DET</tspan>\n",
       "</text>\n",
       "\n",
       "<text class=\"displacy-token\" fill=\"currentColor\" text-anchor=\"middle\" y=\"327.0\">\n",
       "    <tspan class=\"displacy-word\" fill=\"currentColor\" x=\"610\">allegation</tspan>\n",
       "    <tspan class=\"displacy-tag\" dy=\"2em\" fill=\"currentColor\" x=\"610\">NOUN</tspan>\n",
       "</text>\n",
       "\n",
       "<text class=\"displacy-token\" fill=\"currentColor\" text-anchor=\"middle\" y=\"327.0\">\n",
       "    <tspan class=\"displacy-word\" fill=\"currentColor\" x=\"690\">that</tspan>\n",
       "    <tspan class=\"displacy-tag\" dy=\"2em\" fill=\"currentColor\" x=\"690\">DET</tspan>\n",
       "</text>\n",
       "\n",
       "<text class=\"displacy-token\" fill=\"currentColor\" text-anchor=\"middle\" y=\"327.0\">\n",
       "    <tspan class=\"displacy-word\" fill=\"currentColor\" x=\"770\">has</tspan>\n",
       "    <tspan class=\"displacy-tag\" dy=\"2em\" fill=\"currentColor\" x=\"770\">AUX</tspan>\n",
       "</text>\n",
       "\n",
       "<text class=\"displacy-token\" fill=\"currentColor\" text-anchor=\"middle\" y=\"327.0\">\n",
       "    <tspan class=\"displacy-word\" fill=\"currentColor\" x=\"850\">been</tspan>\n",
       "    <tspan class=\"displacy-tag\" dy=\"2em\" fill=\"currentColor\" x=\"850\">AUX</tspan>\n",
       "</text>\n",
       "\n",
       "<text class=\"displacy-token\" fill=\"currentColor\" text-anchor=\"middle\" y=\"327.0\">\n",
       "    <tspan class=\"displacy-word\" fill=\"currentColor\" x=\"930\">brought</tspan>\n",
       "    <tspan class=\"displacy-tag\" dy=\"2em\" fill=\"currentColor\" x=\"930\">VERB</tspan>\n",
       "</text>\n",
       "\n",
       "<text class=\"displacy-token\" fill=\"currentColor\" text-anchor=\"middle\" y=\"327.0\">\n",
       "    <tspan class=\"displacy-word\" fill=\"currentColor\" x=\"1010\">forward,”</tspan>\n",
       "    <tspan class=\"displacy-tag\" dy=\"2em\" fill=\"currentColor\" x=\"1010\">ADV</tspan>\n",
       "</text>\n",
       "\n",
       "<text class=\"displacy-token\" fill=\"currentColor\" text-anchor=\"middle\" y=\"327.0\">\n",
       "    <tspan class=\"displacy-word\" fill=\"currentColor\" x=\"1090\">Gloria</tspan>\n",
       "    <tspan class=\"displacy-tag\" dy=\"2em\" fill=\"currentColor\" x=\"1090\">PROPN</tspan>\n",
       "</text>\n",
       "\n",
       "<text class=\"displacy-token\" fill=\"currentColor\" text-anchor=\"middle\" y=\"327.0\">\n",
       "    <tspan class=\"displacy-word\" fill=\"currentColor\" x=\"1170\">said</tspan>\n",
       "    <tspan class=\"displacy-tag\" dy=\"2em\" fill=\"currentColor\" x=\"1170\">VERB</tspan>\n",
       "</text>\n",
       "\n",
       "<text class=\"displacy-token\" fill=\"currentColor\" text-anchor=\"middle\" y=\"327.0\">\n",
       "    <tspan class=\"displacy-word\" fill=\"currentColor\" x=\"1250\">at</tspan>\n",
       "    <tspan class=\"displacy-tag\" dy=\"2em\" fill=\"currentColor\" x=\"1250\">ADP</tspan>\n",
       "</text>\n",
       "\n",
       "<text class=\"displacy-token\" fill=\"currentColor\" text-anchor=\"middle\" y=\"327.0\">\n",
       "    <tspan class=\"displacy-word\" fill=\"currentColor\" x=\"1330\">a</tspan>\n",
       "    <tspan class=\"displacy-tag\" dy=\"2em\" fill=\"currentColor\" x=\"1330\">DET</tspan>\n",
       "</text>\n",
       "\n",
       "<text class=\"displacy-token\" fill=\"currentColor\" text-anchor=\"middle\" y=\"327.0\">\n",
       "    <tspan class=\"displacy-word\" fill=\"currentColor\" x=\"1410\">news</tspan>\n",
       "    <tspan class=\"displacy-tag\" dy=\"2em\" fill=\"currentColor\" x=\"1410\">NOUN</tspan>\n",
       "</text>\n",
       "\n",
       "<text class=\"displacy-token\" fill=\"currentColor\" text-anchor=\"middle\" y=\"327.0\">\n",
       "    <tspan class=\"displacy-word\" fill=\"currentColor\" x=\"1490\">conference</tspan>\n",
       "    <tspan class=\"displacy-tag\" dy=\"2em\" fill=\"currentColor\" x=\"1490\">NOUN</tspan>\n",
       "</text>\n",
       "\n",
       "<text class=\"displacy-token\" fill=\"currentColor\" text-anchor=\"middle\" y=\"327.0\">\n",
       "    <tspan class=\"displacy-word\" fill=\"currentColor\" x=\"1570\">Monday.</tspan>\n",
       "    <tspan class=\"displacy-tag\" dy=\"2em\" fill=\"currentColor\" x=\"1570\">PROPN</tspan>\n",
       "</text>\n",
       "\n",
       "<g class=\"displacy-arrow\">\n",
       "    <path class=\"displacy-arc\" id=\"arrow-75306110b1a24490b15a800afbbd254f-0-0\" stroke-width=\"2px\" d=\"M70,282.0 C70,2.0 1170.0,2.0 1170.0,282.0\" fill=\"none\" stroke=\"currentColor\"/>\n",
       "    <text dy=\"1.25em\" style=\"font-size: 0.8em; letter-spacing: 1px\">\n",
       "        <textPath xlink:href=\"#arrow-75306110b1a24490b15a800afbbd254f-0-0\" class=\"displacy-label\" startOffset=\"50%\" side=\"left\" fill=\"currentColor\" text-anchor=\"middle\">punct</textPath>\n",
       "    </text>\n",
       "    <path class=\"displacy-arrowhead\" d=\"M70,284.0 L62,272.0 78,272.0\" fill=\"currentColor\"/>\n",
       "</g>\n",
       "\n",
       "<g class=\"displacy-arrow\">\n",
       "    <path class=\"displacy-arc\" id=\"arrow-75306110b1a24490b15a800afbbd254f-0-1\" stroke-width=\"2px\" d=\"M150,282.0 C150,202.0 265.0,202.0 265.0,282.0\" fill=\"none\" stroke=\"currentColor\"/>\n",
       "    <text dy=\"1.25em\" style=\"font-size: 0.8em; letter-spacing: 1px\">\n",
       "        <textPath xlink:href=\"#arrow-75306110b1a24490b15a800afbbd254f-0-1\" class=\"displacy-label\" startOffset=\"50%\" side=\"left\" fill=\"currentColor\" text-anchor=\"middle\">nsubj</textPath>\n",
       "    </text>\n",
       "    <path class=\"displacy-arrowhead\" d=\"M150,284.0 L142,272.0 158,272.0\" fill=\"currentColor\"/>\n",
       "</g>\n",
       "\n",
       "<g class=\"displacy-arrow\">\n",
       "    <path class=\"displacy-arc\" id=\"arrow-75306110b1a24490b15a800afbbd254f-0-2\" stroke-width=\"2px\" d=\"M230,282.0 C230,242.0 260.0,242.0 260.0,282.0\" fill=\"none\" stroke=\"currentColor\"/>\n",
       "    <text dy=\"1.25em\" style=\"font-size: 0.8em; letter-spacing: 1px\">\n",
       "        <textPath xlink:href=\"#arrow-75306110b1a24490b15a800afbbd254f-0-2\" class=\"displacy-label\" startOffset=\"50%\" side=\"left\" fill=\"currentColor\" text-anchor=\"middle\">aux</textPath>\n",
       "    </text>\n",
       "    <path class=\"displacy-arrowhead\" d=\"M230,284.0 L222,272.0 238,272.0\" fill=\"currentColor\"/>\n",
       "</g>\n",
       "\n",
       "<g class=\"displacy-arrow\">\n",
       "    <path class=\"displacy-arc\" id=\"arrow-75306110b1a24490b15a800afbbd254f-0-3\" stroke-width=\"2px\" d=\"M310,282.0 C310,42.0 1165.0,42.0 1165.0,282.0\" fill=\"none\" stroke=\"currentColor\"/>\n",
       "    <text dy=\"1.25em\" style=\"font-size: 0.8em; letter-spacing: 1px\">\n",
       "        <textPath xlink:href=\"#arrow-75306110b1a24490b15a800afbbd254f-0-3\" class=\"displacy-label\" startOffset=\"50%\" side=\"left\" fill=\"currentColor\" text-anchor=\"middle\">ccomp</textPath>\n",
       "    </text>\n",
       "    <path class=\"displacy-arrowhead\" d=\"M310,284.0 L302,272.0 318,272.0\" fill=\"currentColor\"/>\n",
       "</g>\n",
       "\n",
       "<g class=\"displacy-arrow\">\n",
       "    <path class=\"displacy-arc\" id=\"arrow-75306110b1a24490b15a800afbbd254f-0-4\" stroke-width=\"2px\" d=\"M310,282.0 C310,242.0 340.0,242.0 340.0,282.0\" fill=\"none\" stroke=\"currentColor\"/>\n",
       "    <text dy=\"1.25em\" style=\"font-size: 0.8em; letter-spacing: 1px\">\n",
       "        <textPath xlink:href=\"#arrow-75306110b1a24490b15a800afbbd254f-0-4\" class=\"displacy-label\" startOffset=\"50%\" side=\"left\" fill=\"currentColor\" text-anchor=\"middle\">dobj</textPath>\n",
       "    </text>\n",
       "    <path class=\"displacy-arrowhead\" d=\"M340.0,284.0 L348.0,272.0 332.0,272.0\" fill=\"currentColor\"/>\n",
       "</g>\n",
       "\n",
       "<g class=\"displacy-arrow\">\n",
       "    <path class=\"displacy-arc\" id=\"arrow-75306110b1a24490b15a800afbbd254f-0-5\" stroke-width=\"2px\" d=\"M390,282.0 C390,242.0 420.0,242.0 420.0,282.0\" fill=\"none\" stroke=\"currentColor\"/>\n",
       "    <text dy=\"1.25em\" style=\"font-size: 0.8em; letter-spacing: 1px\">\n",
       "        <textPath xlink:href=\"#arrow-75306110b1a24490b15a800afbbd254f-0-5\" class=\"displacy-label\" startOffset=\"50%\" side=\"left\" fill=\"currentColor\" text-anchor=\"middle\">prep</textPath>\n",
       "    </text>\n",
       "    <path class=\"displacy-arrowhead\" d=\"M420.0,284.0 L428.0,272.0 412.0,272.0\" fill=\"currentColor\"/>\n",
       "</g>\n",
       "\n",
       "<g class=\"displacy-arrow\">\n",
       "    <path class=\"displacy-arc\" id=\"arrow-75306110b1a24490b15a800afbbd254f-0-6\" stroke-width=\"2px\" d=\"M550,282.0 C550,242.0 580.0,242.0 580.0,282.0\" fill=\"none\" stroke=\"currentColor\"/>\n",
       "    <text dy=\"1.25em\" style=\"font-size: 0.8em; letter-spacing: 1px\">\n",
       "        <textPath xlink:href=\"#arrow-75306110b1a24490b15a800afbbd254f-0-6\" class=\"displacy-label\" startOffset=\"50%\" side=\"left\" fill=\"currentColor\" text-anchor=\"middle\">det</textPath>\n",
       "    </text>\n",
       "    <path class=\"displacy-arrowhead\" d=\"M550,284.0 L542,272.0 558,272.0\" fill=\"currentColor\"/>\n",
       "</g>\n",
       "\n",
       "<g class=\"displacy-arrow\">\n",
       "    <path class=\"displacy-arc\" id=\"arrow-75306110b1a24490b15a800afbbd254f-0-7\" stroke-width=\"2px\" d=\"M470,282.0 C470,202.0 585.0,202.0 585.0,282.0\" fill=\"none\" stroke=\"currentColor\"/>\n",
       "    <text dy=\"1.25em\" style=\"font-size: 0.8em; letter-spacing: 1px\">\n",
       "        <textPath xlink:href=\"#arrow-75306110b1a24490b15a800afbbd254f-0-7\" class=\"displacy-label\" startOffset=\"50%\" side=\"left\" fill=\"currentColor\" text-anchor=\"middle\">pobj</textPath>\n",
       "    </text>\n",
       "    <path class=\"displacy-arrowhead\" d=\"M585.0,284.0 L593.0,272.0 577.0,272.0\" fill=\"currentColor\"/>\n",
       "</g>\n",
       "\n",
       "<g class=\"displacy-arrow\">\n",
       "    <path class=\"displacy-arc\" id=\"arrow-75306110b1a24490b15a800afbbd254f-0-8\" stroke-width=\"2px\" d=\"M710,282.0 C710,162.0 910.0,162.0 910.0,282.0\" fill=\"none\" stroke=\"currentColor\"/>\n",
       "    <text dy=\"1.25em\" style=\"font-size: 0.8em; letter-spacing: 1px\">\n",
       "        <textPath xlink:href=\"#arrow-75306110b1a24490b15a800afbbd254f-0-8\" class=\"displacy-label\" startOffset=\"50%\" side=\"left\" fill=\"currentColor\" text-anchor=\"middle\">nsubjpass</textPath>\n",
       "    </text>\n",
       "    <path class=\"displacy-arrowhead\" d=\"M710,284.0 L702,272.0 718,272.0\" fill=\"currentColor\"/>\n",
       "</g>\n",
       "\n",
       "<g class=\"displacy-arrow\">\n",
       "    <path class=\"displacy-arc\" id=\"arrow-75306110b1a24490b15a800afbbd254f-0-9\" stroke-width=\"2px\" d=\"M790,282.0 C790,202.0 905.0,202.0 905.0,282.0\" fill=\"none\" stroke=\"currentColor\"/>\n",
       "    <text dy=\"1.25em\" style=\"font-size: 0.8em; letter-spacing: 1px\">\n",
       "        <textPath xlink:href=\"#arrow-75306110b1a24490b15a800afbbd254f-0-9\" class=\"displacy-label\" startOffset=\"50%\" side=\"left\" fill=\"currentColor\" text-anchor=\"middle\">aux</textPath>\n",
       "    </text>\n",
       "    <path class=\"displacy-arrowhead\" d=\"M790,284.0 L782,272.0 798,272.0\" fill=\"currentColor\"/>\n",
       "</g>\n",
       "\n",
       "<g class=\"displacy-arrow\">\n",
       "    <path class=\"displacy-arc\" id=\"arrow-75306110b1a24490b15a800afbbd254f-0-10\" stroke-width=\"2px\" d=\"M870,282.0 C870,242.0 900.0,242.0 900.0,282.0\" fill=\"none\" stroke=\"currentColor\"/>\n",
       "    <text dy=\"1.25em\" style=\"font-size: 0.8em; letter-spacing: 1px\">\n",
       "        <textPath xlink:href=\"#arrow-75306110b1a24490b15a800afbbd254f-0-10\" class=\"displacy-label\" startOffset=\"50%\" side=\"left\" fill=\"currentColor\" text-anchor=\"middle\">auxpass</textPath>\n",
       "    </text>\n",
       "    <path class=\"displacy-arrowhead\" d=\"M870,284.0 L862,272.0 878,272.0\" fill=\"currentColor\"/>\n",
       "</g>\n",
       "\n",
       "<g class=\"displacy-arrow\">\n",
       "    <path class=\"displacy-arc\" id=\"arrow-75306110b1a24490b15a800afbbd254f-0-11\" stroke-width=\"2px\" d=\"M630,282.0 C630,122.0 915.0,122.0 915.0,282.0\" fill=\"none\" stroke=\"currentColor\"/>\n",
       "    <text dy=\"1.25em\" style=\"font-size: 0.8em; letter-spacing: 1px\">\n",
       "        <textPath xlink:href=\"#arrow-75306110b1a24490b15a800afbbd254f-0-11\" class=\"displacy-label\" startOffset=\"50%\" side=\"left\" fill=\"currentColor\" text-anchor=\"middle\">relcl</textPath>\n",
       "    </text>\n",
       "    <path class=\"displacy-arrowhead\" d=\"M915.0,284.0 L923.0,272.0 907.0,272.0\" fill=\"currentColor\"/>\n",
       "</g>\n",
       "\n",
       "<g class=\"displacy-arrow\">\n",
       "    <path class=\"displacy-arc\" id=\"arrow-75306110b1a24490b15a800afbbd254f-0-12\" stroke-width=\"2px\" d=\"M950,282.0 C950,242.0 980.0,242.0 980.0,282.0\" fill=\"none\" stroke=\"currentColor\"/>\n",
       "    <text dy=\"1.25em\" style=\"font-size: 0.8em; letter-spacing: 1px\">\n",
       "        <textPath xlink:href=\"#arrow-75306110b1a24490b15a800afbbd254f-0-12\" class=\"displacy-label\" startOffset=\"50%\" side=\"left\" fill=\"currentColor\" text-anchor=\"middle\">advmod</textPath>\n",
       "    </text>\n",
       "    <path class=\"displacy-arrowhead\" d=\"M980.0,284.0 L988.0,272.0 972.0,272.0\" fill=\"currentColor\"/>\n",
       "</g>\n",
       "\n",
       "<g class=\"displacy-arrow\">\n",
       "    <path class=\"displacy-arc\" id=\"arrow-75306110b1a24490b15a800afbbd254f-0-13\" stroke-width=\"2px\" d=\"M1110,282.0 C1110,242.0 1140.0,242.0 1140.0,282.0\" fill=\"none\" stroke=\"currentColor\"/>\n",
       "    <text dy=\"1.25em\" style=\"font-size: 0.8em; letter-spacing: 1px\">\n",
       "        <textPath xlink:href=\"#arrow-75306110b1a24490b15a800afbbd254f-0-13\" class=\"displacy-label\" startOffset=\"50%\" side=\"left\" fill=\"currentColor\" text-anchor=\"middle\">nsubj</textPath>\n",
       "    </text>\n",
       "    <path class=\"displacy-arrowhead\" d=\"M1110,284.0 L1102,272.0 1118,272.0\" fill=\"currentColor\"/>\n",
       "</g>\n",
       "\n",
       "<g class=\"displacy-arrow\">\n",
       "    <path class=\"displacy-arc\" id=\"arrow-75306110b1a24490b15a800afbbd254f-0-14\" stroke-width=\"2px\" d=\"M1190,282.0 C1190,242.0 1220.0,242.0 1220.0,282.0\" fill=\"none\" stroke=\"currentColor\"/>\n",
       "    <text dy=\"1.25em\" style=\"font-size: 0.8em; letter-spacing: 1px\">\n",
       "        <textPath xlink:href=\"#arrow-75306110b1a24490b15a800afbbd254f-0-14\" class=\"displacy-label\" startOffset=\"50%\" side=\"left\" fill=\"currentColor\" text-anchor=\"middle\">prep</textPath>\n",
       "    </text>\n",
       "    <path class=\"displacy-arrowhead\" d=\"M1220.0,284.0 L1228.0,272.0 1212.0,272.0\" fill=\"currentColor\"/>\n",
       "</g>\n",
       "\n",
       "<g class=\"displacy-arrow\">\n",
       "    <path class=\"displacy-arc\" id=\"arrow-75306110b1a24490b15a800afbbd254f-0-15\" stroke-width=\"2px\" d=\"M1350,282.0 C1350,202.0 1465.0,202.0 1465.0,282.0\" fill=\"none\" stroke=\"currentColor\"/>\n",
       "    <text dy=\"1.25em\" style=\"font-size: 0.8em; letter-spacing: 1px\">\n",
       "        <textPath xlink:href=\"#arrow-75306110b1a24490b15a800afbbd254f-0-15\" class=\"displacy-label\" startOffset=\"50%\" side=\"left\" fill=\"currentColor\" text-anchor=\"middle\">det</textPath>\n",
       "    </text>\n",
       "    <path class=\"displacy-arrowhead\" d=\"M1350,284.0 L1342,272.0 1358,272.0\" fill=\"currentColor\"/>\n",
       "</g>\n",
       "\n",
       "<g class=\"displacy-arrow\">\n",
       "    <path class=\"displacy-arc\" id=\"arrow-75306110b1a24490b15a800afbbd254f-0-16\" stroke-width=\"2px\" d=\"M1430,282.0 C1430,242.0 1460.0,242.0 1460.0,282.0\" fill=\"none\" stroke=\"currentColor\"/>\n",
       "    <text dy=\"1.25em\" style=\"font-size: 0.8em; letter-spacing: 1px\">\n",
       "        <textPath xlink:href=\"#arrow-75306110b1a24490b15a800afbbd254f-0-16\" class=\"displacy-label\" startOffset=\"50%\" side=\"left\" fill=\"currentColor\" text-anchor=\"middle\">compound</textPath>\n",
       "    </text>\n",
       "    <path class=\"displacy-arrowhead\" d=\"M1430,284.0 L1422,272.0 1438,272.0\" fill=\"currentColor\"/>\n",
       "</g>\n",
       "\n",
       "<g class=\"displacy-arrow\">\n",
       "    <path class=\"displacy-arc\" id=\"arrow-75306110b1a24490b15a800afbbd254f-0-17\" stroke-width=\"2px\" d=\"M1270,282.0 C1270,162.0 1470.0,162.0 1470.0,282.0\" fill=\"none\" stroke=\"currentColor\"/>\n",
       "    <text dy=\"1.25em\" style=\"font-size: 0.8em; letter-spacing: 1px\">\n",
       "        <textPath xlink:href=\"#arrow-75306110b1a24490b15a800afbbd254f-0-17\" class=\"displacy-label\" startOffset=\"50%\" side=\"left\" fill=\"currentColor\" text-anchor=\"middle\">pobj</textPath>\n",
       "    </text>\n",
       "    <path class=\"displacy-arrowhead\" d=\"M1470.0,284.0 L1478.0,272.0 1462.0,272.0\" fill=\"currentColor\"/>\n",
       "</g>\n",
       "\n",
       "<g class=\"displacy-arrow\">\n",
       "    <path class=\"displacy-arc\" id=\"arrow-75306110b1a24490b15a800afbbd254f-0-18\" stroke-width=\"2px\" d=\"M1190,282.0 C1190,82.0 1560.0,82.0 1560.0,282.0\" fill=\"none\" stroke=\"currentColor\"/>\n",
       "    <text dy=\"1.25em\" style=\"font-size: 0.8em; letter-spacing: 1px\">\n",
       "        <textPath xlink:href=\"#arrow-75306110b1a24490b15a800afbbd254f-0-18\" class=\"displacy-label\" startOffset=\"50%\" side=\"left\" fill=\"currentColor\" text-anchor=\"middle\">npadvmod</textPath>\n",
       "    </text>\n",
       "    <path class=\"displacy-arrowhead\" d=\"M1560.0,284.0 L1568.0,272.0 1552.0,272.0\" fill=\"currentColor\"/>\n",
       "</g>\n",
       "</svg></span>"
      ],
      "text/plain": [
       "<IPython.core.display.HTML object>"
      ]
     },
     "metadata": {},
     "output_type": "display_data"
    }
   ],
   "source": [
    "Display_named_entities(df, item = 0, no_of_sentence = 1, column = 'Content', dist = 80)"
   ]
  },
  {
   "cell_type": "markdown",
   "metadata": {},
   "source": [
    "#### Word Count\n",
    "Counting number of words are present in the perticular column, hear we are working on 'Content' column"
   ]
  },
  {
   "cell_type": "code",
   "execution_count": 9,
   "metadata": {},
   "outputs": [],
   "source": [
    "def word_count(dataframe,\n",
    "               column: str = 'Content') -> None:\n",
    "    '''\n",
    "        This Function Prints the word count \n",
    "        Parms :  -df : Dataframe\n",
    "        column : which column of the Dataframe need to be explore\n",
    "    '''\n",
    "    for n,content in enumerate(dataframe[str(column)]):\n",
    "        doc = nlp(content)\n",
    "        labels = [x.label_ for x in doc.ents]\n",
    "        \n",
    "        if labels:\n",
    "            print('word count of',n,'is')\n",
    "            pprint(Counter(labels));print()"
   ]
  },
  {
   "cell_type": "code",
   "execution_count": 10,
   "metadata": {},
   "outputs": [
    {
     "name": "stdout",
     "output_type": "stream",
     "text": [
      "word count of 0 is\n",
      "Counter({'GPE': 8,\n",
      "         'ORG': 8,\n",
      "         'PERSON': 5,\n",
      "         'DATE': 5,\n",
      "         'CARDINAL': 4,\n",
      "         'NORP': 2,\n",
      "         'LOC': 1})\n",
      "\n",
      "word count of 1 is\n",
      "Counter({'GPE': 8,\n",
      "         'ORG': 8,\n",
      "         'PERSON': 5,\n",
      "         'DATE': 5,\n",
      "         'CARDINAL': 4,\n",
      "         'NORP': 2,\n",
      "         'LOC': 1})\n",
      "\n",
      "word count of 2 is\n",
      "Counter({'GPE': 8,\n",
      "         'ORG': 8,\n",
      "         'PERSON': 5,\n",
      "         'DATE': 5,\n",
      "         'CARDINAL': 4,\n",
      "         'NORP': 2,\n",
      "         'LOC': 1})\n",
      "\n",
      "word count of 3 is\n",
      "Counter({'GPE': 8,\n",
      "         'ORG': 8,\n",
      "         'PERSON': 5,\n",
      "         'DATE': 5,\n",
      "         'CARDINAL': 4,\n",
      "         'NORP': 2,\n",
      "         'LOC': 1})\n",
      "\n",
      "word count of 4 is\n",
      "Counter({'GPE': 8,\n",
      "         'ORG': 8,\n",
      "         'PERSON': 5,\n",
      "         'DATE': 5,\n",
      "         'CARDINAL': 4,\n",
      "         'NORP': 2,\n",
      "         'LOC': 1})\n",
      "\n"
     ]
    }
   ],
   "source": [
    "word_count(df)"
   ]
  },
  {
   "cell_type": "markdown",
   "metadata": {},
   "source": [
    "#### Now let's perform prepossing the text to explore data further\n",
    "includes 3 steps\n",
    ">1) removing punctuation\n",
    "\n",
    ">2) Converting the text to lowercase\n",
    "\n",
    ">3) Join the processed text together"
   ]
  },
  {
   "cell_type": "code",
   "execution_count": 11,
   "metadata": {},
   "outputs": [],
   "source": [
    "def remove_punctuation(df : pd.DataFrame, \n",
    "                       col: str) -> pd.DataFrame:\n",
    "    \"\"\"Helper function to remove punctuation\n",
    "    \"\"\"\n",
    "    return df[col].map(lambda x: re.sub('[,\\.!?]', '', x))\n",
    "\n",
    "def convert_lower(df: pd.DataFrame, \n",
    "                  col: str) -> pd.DataFrame:\n",
    "    \"\"\" Helper function to Convert the text to lowercase\n",
    "    \"\"\"\n",
    "    return df[col].map(lambda x: x.lower())\n",
    "\n",
    "def preprocessing(df:  pd.DataFrame) -> str:\n",
    "    \"\"\"\n",
    "    Method to preprocess the text of data\n",
    "    \n",
    "    Parms : -df:Dataframe\n",
    "    \n",
    "    retruns the prosesed text\n",
    "    \"\"\"\n",
    "    df['Content_modify'] = remove_punctuation(df, col ='Content')\n",
    "    df['Content_modify'] = convert_lower(df, col ='Content_modify')\n",
    "    # Join the different processed text together.\n",
    "    text = ','.join(list(df[\"Content_modify\"].values))\n",
    "    return text\n",
    "\n",
    "text = preprocessing(df)\n",
    "# df['Content_modify'].head()"
   ]
  },
  {
   "cell_type": "markdown",
   "metadata": {},
   "source": [
    "#### Let's create a function That gives visual representation of word-cloud and word-freqencies"
   ]
  },
  {
   "cell_type": "code",
   "execution_count": 12,
   "metadata": {},
   "outputs": [],
   "source": [
    "def Draw_WordCloud_frequency(text: str, \n",
    "                             max_words: int =10) -> None:\n",
    "    \"\"\"\n",
    "    Method to Displays word-cloud and word-freqencies graph\n",
    "    \n",
    "    parmeter\n",
    "        df: pd.DataFrame, \n",
    "        col: which column you want to explore\n",
    "        max_words: length of maximum words explore\n",
    "\n",
    "    Displays word-cloud and word-freqencies graph \n",
    "    \n",
    "    \"\"\"\n",
    "    # Create a WordCloud object\n",
    "    wordcloud = WordCloud(background_color=\"white\", max_words=max_words, contour_width=3,\n",
    "                          contour_color='steelblue')\n",
    "    \n",
    "    # Generate a word cloud\n",
    "    wordcloud.generate(text)\n",
    "    \n",
    "    # Visualize the word cloud\n",
    "    plt.figure(figsize=(8,8))\n",
    "    plt.imshow(wordcloud, interpolation=\"bilinear\")\n",
    "    plt.axis(\"off\")\n",
    "    plt.show()\n",
    "    \n",
    "#   Visualize the word Frequency graph\n",
    "    x, y = zip(* wordcloud.words_.items())\n",
    "    plt.figure(figsize=(10,8))\n",
    "    plt.bar(x, y)\n",
    "    plt.xticks(rotation=60, fontsize=20);plt.yticks(fontsize=10)\n",
    "    plt.title('Frequency of 10 Most Common Words', fontsize=20)\n",
    "    plt.xlabel('Words', fontsize=20);plt.ylabel('Frequency of Words', fontsize=20)"
   ]
  },
  {
   "cell_type": "code",
   "execution_count": 13,
   "metadata": {
    "scrolled": false
   },
   "outputs": [
    {
     "data": {
      "image/png": "[encoded data removed]",
      "text/plain": [
       "<Figure size 576x576 with 1 Axes>"
      ]
     },
     "metadata": {
      "needs_background": "light"
     },
     "output_type": "display_data"
    },
    {
     "data": {
      "image/png": "[encoded data removed]",
      "text/plain": [
       "<Figure size 720x576 with 1 Axes>"
      ]
     },
     "metadata": {
      "needs_background": "light"
     },
     "output_type": "display_data"
    }
   ],
   "source": [
    "Draw_WordCloud_frequency(text)"
   ]
  },
  {
   "cell_type": "markdown",
   "metadata": {},
   "source": [
    "### Topic modelling\n",
    "#### now we perform Topic modeling using LatentDirichletAllocation with the help of CountVectorizer"
   ]
  },
  {
   "cell_type": "code",
   "execution_count": 14,
   "metadata": {},
   "outputs": [],
   "source": [
    "# Initialise the count vectorizer with the English stop words\n",
    "count_vectorizer = CountVectorizer(stop_words='english')\n",
    "\n",
    "# Fit and transform the preprocessed content\n",
    "count_data = count_vectorizer.fit_transform(df['Content_modify']) "
   ]
  },
  {
   "cell_type": "code",
   "execution_count": 15,
   "metadata": {},
   "outputs": [
    {
     "name": "stdout",
     "output_type": "stream",
     "text": [
      "Topics found via LDA:\n",
      "\n",
      "Topic : 1\n",
      "campaign trump county said clark nevada office news state conference voters ballots\n",
      "\n",
      "Topic : 2\n",
      "worked gop examples federal file filled flooded formal forward forwarded fraud free\n",
      "\n",
      "Topic : 3\n",
      "worked gop examples federal file filled flooded formal forward forwarded fraud free\n",
      "\n",
      "Topic : 4\n",
      "worked gop examples federal file filled flooded formal forward forwarded fraud free\n"
     ]
    }
   ],
   "source": [
    "def print_topics(model:object, \n",
    "                 count_vectorizer:object, \n",
    "                 n_top_words:int) -> None:\n",
    "    \"\"\"\n",
    "    This is the Helper function to display Topics of the model\n",
    "    \n",
    "    parm: \n",
    "        model: model used, \n",
    "        count_vectorizer: pre processed Data, \n",
    "        n_top_words: how many words you need to Display\n",
    "\n",
    "    \"\"\"\n",
    "    words = count_vectorizer.get_feature_names()\n",
    "    for topic_idx, topic in enumerate(model.components_):\n",
    "        print(f\"\\nTopic : {topic_idx+1}\")\n",
    "        print(\" \".join([words[i]for i in topic.argsort()[:-n_top_words - 1:-1]]))\n",
    "\n",
    "# Create and fit the LDA model\n",
    "number_topics = 4\n",
    "number_words = 12\n",
    "lda = LDA(n_components=number_topics, n_jobs=-1)\n",
    "lda.fit(count_data)\n",
    "\n",
    "# Print the topics found by the LDA model\n",
    "print(\"Topics found via LDA:\")\n",
    "print_topics(lda, count_vectorizer, number_words)"
   ]
  },
  {
   "cell_type": "markdown",
   "metadata": {},
   "source": [
    "### -------------------------------------------End--------------------------------------"
   ]
  }
 ],
 "metadata": {
  "kernelspec": {
   "display_name": "Python 3",
   "language": "python",
   "name": "python3"
  },
  "language_info": {
   "codemirror_mode": {
    "name": "ipython",
    "version": 3
   },
   "file_extension": ".py",
   "mimetype": "text/x-python",
   "name": "python",
   "nbconvert_exporter": "python",
   "pygments_lexer": "ipython3",
   "version": "3.8.5"
  }
 },
 "nbformat": 4,
 "nbformat_minor": 2
}
